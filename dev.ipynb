{
 "cells": [
  {
   "cell_type": "code",
   "execution_count": 120,
   "metadata": {},
   "outputs": [],
   "source": [
    "from datetime import datetime, timedelta\n",
    "\n",
    "DATE_FORMAT = '%Y-%m-%d'\n",
    "DOW_NUM = {\n",
    "    0:'Sunday',\n",
    "    1:'Monday',\n",
    "    2:'Tuesday',\n",
    "    3:'Wednesday',\n",
    "    4:'Thursday',\n",
    "    5:'Friday',\n",
    "    6:'Saturday'\n",
    "}"
   ]
  },
  {
   "cell_type": "markdown",
   "metadata": {},
   "source": [
    "## Easy method"
   ]
  },
  {
   "cell_type": "code",
   "execution_count": 2,
   "metadata": {},
   "outputs": [
    {
     "data": {
      "text/plain": [
       "'Tuesday'"
      ]
     },
     "execution_count": 2,
     "metadata": {},
     "output_type": "execute_result"
    }
   ],
   "source": [
    "def dow_datetime_method(date):\n",
    "    dow_name = datetime.strptime(date, DATE_FORMAT).strftime('%A')\n",
    "    return dow_name\n",
    "\n",
    "dow_datetime_method('1995-01-24')"
   ]
  },
  {
   "cell_type": "markdown",
   "metadata": {},
   "source": [
    "## Using the doomsday series"
   ]
  },
  {
   "cell_type": "code",
   "execution_count": 106,
   "metadata": {},
   "outputs": [
    {
     "name": "stdout",
     "output_type": "stream",
     "text": [
      "Tuesday\n",
      "Tuesday\n"
     ]
    }
   ],
   "source": [
    "def _mod(n, modulo):\n",
    "    \"\"\"\n",
    "    \"absolute\" modulo\n",
    "    \"\"\"\n",
    "    if n < 0:\n",
    "        shift = (n)%-modulo\n",
    "    elif n > 0:\n",
    "        shift = (n)%modulo\n",
    "    else:\n",
    "        shift = 0\n",
    "    return shift\n",
    "\n",
    "def _century_leaps_adj(ref_year, target_year):\n",
    "    \"\"\"\n",
    "    Accounting for leap years not happening on years divisible by 100 but not 400.\n",
    "    \"\"\"\n",
    "    if ref_year > target_year:\n",
    "        century_list = [i for i in range(target_year+1,ref_year+1) if i%100==0 and i%400!=0]\n",
    "        adj = len(century_list)\n",
    "    elif ref_year < target_year:\n",
    "        century_list = [i for i in range(ref_year,target_year+1) if i%100==0 and i%400!=0]\n",
    "        adj = -len(century_list)\n",
    "    else:\n",
    "        adj = 0\n",
    "    return adj\n",
    "\n",
    "def dow_doomsday_complex(date):\n",
    "\n",
    "    ref_year={2000:2}\n",
    "    year = int(datetime.strptime(date, DATE_FORMAT).strftime('%Y'))\n",
    "\n",
    "    year_diff = year - list(ref_year.keys())[0]\n",
    "\n",
    "    if year_diff < 0:\n",
    "        leap_year_count = -(year_diff//-4)-1\n",
    "        if year_diff%-4 == 0:\n",
    "            leap_year_count = leap_year_count + 1\n",
    "    elif year_diff > 0:\n",
    "        leap_year_count = year_diff//4\n",
    "    else:\n",
    "        leap_year_count = 0\n",
    "\n",
    "    century_leaps = _century_leaps_adj(ref_year=list(ref_year.keys())[0], target_year=year)\n",
    "\n",
    "    year_shift = leap_year_count + year_diff + century_leaps\n",
    "\n",
    "    doomsday = datetime(year,6,6)\n",
    "\n",
    "    day_shift = (datetime.strptime(date, DATE_FORMAT) - doomsday).days\n",
    "\n",
    "    total_shift = _mod(year_shift+day_shift, 7)\n",
    "    final_dow = list(ref_year.values())[0] + total_shift\n",
    "\n",
    "    if final_dow < 0:\n",
    "        final_dow = final_dow + 7\n",
    "    elif final_dow > 6:\n",
    "        final_dow = final_dow - 7\n",
    "\n",
    "    return DOW_NUM[final_dow]\n",
    "\n",
    "date2 = '2000-06-06'\n",
    "print(dow_datetime_method(date2))\n",
    "print(dow_doomsday_complex(date2))"
   ]
  },
  {
   "cell_type": "code",
   "execution_count": 182,
   "metadata": {},
   "outputs": [
    {
     "name": "stdout",
     "output_type": "stream",
     "text": [
      "Wednesday\n",
      "Wednesday\n"
     ]
    }
   ],
   "source": [
    "def _get_doomsday_list(year):\n",
    "    doomsdays = [\n",
    "        '04-04',\n",
    "        '06-06',\n",
    "        '08-08',\n",
    "        '10-10',\n",
    "        '12-12',\n",
    "        '07-11',\n",
    "        '11-07',\n",
    "        '05-09',\n",
    "        '09-05'\n",
    "    ]\n",
    "    leap_year_doomsdays = [\n",
    "        '01-04',\n",
    "        '02-29'\n",
    "    ]\n",
    "    non_leap_year_doomsdays = [\n",
    "        '01-03',\n",
    "        '02-28'\n",
    "    ]\n",
    "    if year%4!=0 or (year%100==0 and year%400!=0):\n",
    "        all_doomsdays = non_leap_year_doomsdays + doomsdays\n",
    "    else:\n",
    "        all_doomsdays = leap_year_doomsdays + doomsdays\n",
    "    l = []\n",
    "\n",
    "    string_year = str(year)\n",
    "    while len(string_year)<4:\n",
    "        string_year = f'0{string_year}'\n",
    "\n",
    "    for i in sorted(all_doomsdays):\n",
    "        l = l + [f'{string_year}-{i}']\n",
    "\n",
    "    return l\n",
    "\n",
    "def _get_century_start_doomsday(year):\n",
    "    century_dow_seq = {\n",
    "        0:2,\n",
    "        1:6,\n",
    "        2:5,\n",
    "        3:3\n",
    "    }\n",
    "\n",
    "    return century_dow_seq[(year//100)%4]\n",
    "\n",
    "def dow_doomsday_human(date):\n",
    "    year = int(datetime.strptime(date, DATE_FORMAT).strftime('%Y'))\n",
    "\n",
    "    century_start_doomsday = _get_century_start_doomsday(year)\n",
    "\n",
    "    a = (year%100)//12\n",
    "    b = (year%100)%12\n",
    "    year_adjust = a + b + b//4\n",
    "\n",
    "    doomsday_list = _get_doomsday_list(year)\n",
    "\n",
    "    if datetime.strptime(doomsday_list[0], DATE_FORMAT) > datetime.strptime(date, DATE_FORMAT):\n",
    "        closest_greater_doomsday = datetime.strptime(doomsday_list[0], DATE_FORMAT)\n",
    "        day_adj = (datetime.strptime(date, DATE_FORMAT) - closest_greater_doomsday).days\n",
    "    else:\n",
    "        doomsday_list\n",
    "        closest_smaller_doomsday = datetime.strptime([i for i in doomsday_list if i <= date][-1], DATE_FORMAT)\n",
    "        day_adj = (datetime.strptime(date, DATE_FORMAT) - closest_smaller_doomsday).days\n",
    "\n",
    "    final_dow = (century_start_doomsday + year_adjust + day_adj)%7\n",
    "\n",
    "    if final_dow < 0:\n",
    "        final_dow = final_dow + 7\n",
    "    elif final_dow > 6:\n",
    "        final_dow = final_dow - 7\n",
    "    return DOW_NUM[final_dow]\n",
    "\n",
    "date = '0001-01-03'\n",
    "print(dow_datetime_method(date))\n",
    "print(dow_doomsday_human(date))\n"
   ]
  },
  {
   "cell_type": "code",
   "execution_count": 184,
   "metadata": {},
   "outputs": [
    {
     "data": {
      "text/plain": [
       "['Wednesday', 'Sunday', 'Monday', 'Monday', 'Friday']"
      ]
     },
     "execution_count": 184,
     "metadata": {},
     "output_type": "execute_result"
    }
   ],
   "source": [
    "dates = ['0001-01-03','1599-02-28','1904-02-29','2022-01-31','9999-12-31']\n",
    "\n",
    "[dow_datetime_method(i) for i in dates]"
   ]
  },
  {
   "cell_type": "code",
   "execution_count": null,
   "metadata": {},
   "outputs": [],
   "source": []
  }
 ],
 "metadata": {
  "kernelspec": {
   "display_name": "Python 3.9.7 ('base')",
   "language": "python",
   "name": "python3"
  },
  "language_info": {
   "codemirror_mode": {
    "name": "ipython",
    "version": 3
   },
   "file_extension": ".py",
   "mimetype": "text/x-python",
   "name": "python",
   "nbconvert_exporter": "python",
   "pygments_lexer": "ipython3",
   "version": "3.9.7"
  },
  "orig_nbformat": 4,
  "vscode": {
   "interpreter": {
    "hash": "c1239f1ec3e084129641ab9135bae280eaa7aa3e3298c618201735d1fc7ebb6b"
   }
  }
 },
 "nbformat": 4,
 "nbformat_minor": 2
}
